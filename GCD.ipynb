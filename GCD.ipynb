{
 "cells": [
  {
   "cell_type": "markdown",
   "metadata": {},
   "source": [
    "## GCD of 2 numbers"
   ]
  },
  {
   "cell_type": "code",
   "execution_count": 1,
   "metadata": {},
   "outputs": [
    {
     "name": "stdin",
     "output_type": "stream",
     "text": [
      "Enter 1st number 43\n",
      "Enter 2nd number 12\n"
     ]
    },
    {
     "name": "stdout",
     "output_type": "stream",
     "text": [
      "GCD= 1\n"
     ]
    }
   ],
   "source": [
    "a=int(input(\"Enter 1st number\"))\n",
    "b=int(input(\"Enter 2nd number\"))\n",
    "l1=[]\n",
    "l2=[]\n",
    "for i in range(1,a+1):\n",
    "    if a%i==0:\n",
    "        l1.append(i)\n",
    "for i in range(1,b+1):        \n",
    "    if b%i==0:\n",
    "        l2.append(i)\n",
    "s1=set(l1)\n",
    "s2=set(l2)\n",
    "s3=s1&s2\n",
    "l3=list(s3)\n",
    "print(\"GCD=\",max(l3))"
   ]
  },
  {
   "cell_type": "code",
   "execution_count": null,
   "metadata": {},
   "outputs": [],
   "source": []
  }
 ],
 "metadata": {
  "kernelspec": {
   "display_name": "Python 3",
   "language": "python",
   "name": "python3"
  },
  "language_info": {
   "codemirror_mode": {
    "name": "ipython",
    "version": 3
   },
   "file_extension": ".py",
   "mimetype": "text/x-python",
   "name": "python",
   "nbconvert_exporter": "python",
   "pygments_lexer": "ipython3",
   "version": "3.7.4"
  }
 },
 "nbformat": 4,
 "nbformat_minor": 4
}
