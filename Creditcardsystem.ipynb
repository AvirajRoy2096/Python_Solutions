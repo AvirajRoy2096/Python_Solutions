{
 "cells": [
  {
   "cell_type": "markdown",
   "metadata": {},
   "source": [
    "### A Python code for the validation of Credit card number in Indian Banking Systems"
   ]
  },
  {
   "cell_type": "code",
   "execution_count": 10,
   "metadata": {},
   "outputs": [
    {
     "name": "stdin",
     "output_type": "stream",
     "text": [
      "Enter the 16 digit credit card number 4123567812346789\n"
     ]
    },
    {
     "name": "stdout",
     "output_type": "stream",
     "text": [
      "Number entered successfully.The credit card number is : 4123567812346789\n"
     ]
    }
   ],
   "source": [
    "#ENter credit card number and verify\n",
    "\n",
    "creditcard_num=input(\"Enter the 16 digit credit card number\")\n",
    "a=str(creditcard_num)\n",
    "\n",
    "if (len(a)<16 or len(a)>16) or (a.isdigit()==False):\n",
    "    print(\"Invalid number entered.Please try again\")\n",
    "else :\n",
    "    print(\"Number entered successfully.The credit card number is :\",a)\n"
   ]
  },
  {
   "cell_type": "code",
   "execution_count": 2,
   "metadata": {},
   "outputs": [
    {
     "name": "stdin",
     "output_type": "stream",
     "text": [
      "ENter name as FN MN LN John D G\n"
     ]
    }
   ],
   "source": [
    "#Enter name and split\n",
    "name_of_the_user=input(\"ENter name as FN MN LN\").split()"
   ]
  },
  {
   "cell_type": "code",
   "execution_count": 3,
   "metadata": {},
   "outputs": [
    {
     "data": {
      "text/plain": [
       "['John', 'D', 'G']"
      ]
     },
     "execution_count": 3,
     "metadata": {},
     "output_type": "execute_result"
    }
   ],
   "source": [
    "name_of_the_user"
   ]
  },
  {
   "cell_type": "code",
   "execution_count": 2,
   "metadata": {},
   "outputs": [
    {
     "name": "stdin",
     "output_type": "stream",
     "text": [
      "Please enter the year printed on credit card 2021\n"
     ]
    },
    {
     "name": "stdout",
     "output_type": "stream",
     "text": [
      "The length of the year is correct\n",
      "It is invalid\n"
     ]
    }
   ],
   "source": [
    "#Enter year and check\n",
    "yyyy=int(input(\"Please enter the year printed on credit card\"))\n",
    "yy=str(yyyy)\n",
    "if len(yy)!=4:\n",
    "    print(\"The length of year is not correct\")\n",
    "else:\n",
    "    print(\"The length of the year is correct\")\n",
    "if yy=='2020':\n",
    "    print(\"It is valid\")\n",
    "else :\n",
    "    print(\"It is invalid\")"
   ]
  },
  {
   "cell_type": "code",
   "execution_count": 7,
   "metadata": {},
   "outputs": [
    {
     "name": "stdin",
     "output_type": "stream",
     "text": [
      "Enter the month of credit card number 1\n"
     ]
    },
    {
     "name": "stdout",
     "output_type": "stream",
     "text": [
      "Invalid month.\n"
     ]
    }
   ],
   "source": [
    "#Enter month\n",
    "month=int(input(\"Enter the month of credit card number\"))\n",
    "if month<2 or month>12:\n",
    "    print(\"Invalid month.\")\n",
    "else:\n",
    "    print(\"Valid month given\")"
   ]
  },
  {
   "cell_type": "code",
   "execution_count": 6,
   "metadata": {},
   "outputs": [],
   "source": [
    "#Track otp.Generate otp and storing it\n",
    "\n",
    "import random\n",
    "\n",
    "otp=[]\n",
    "\n",
    "a=random.randint(1000,9999)\n",
    "otp.append(a)"
   ]
  },
  {
   "cell_type": "code",
   "execution_count": 7,
   "metadata": {},
   "outputs": [
    {
     "name": "stdout",
     "output_type": "stream",
     "text": [
      "Please find the required CVV as [514]\n"
     ]
    }
   ],
   "source": [
    "# CVV generation\n",
    "\n",
    "cvv=[]\n",
    "b=random.randint(100,999)\n",
    "cvv.append(b)\n",
    "print('Please find the required CVV as',cvv)\n",
    "\n"
   ]
  },
  {
   "cell_type": "code",
   "execution_count": 8,
   "metadata": {},
   "outputs": [
    {
     "name": "stdin",
     "output_type": "stream",
     "text": [
      "Enter cellphone number 9876543210\n"
     ]
    },
    {
     "name": "stdout",
     "output_type": "stream",
     "text": [
      "Valid cellphone number\n"
     ]
    }
   ],
   "source": [
    "#Cell number\n",
    "cellnumber=int(input('Enter cellphone number'))\n",
    "cell=str(cellnumber)\n",
    "if len(cell)<10 or len(cell)>10 :\n",
    "    print(\"Invalid number\")\n",
    "else:\n",
    "    print(\"Valid cellphone number\")\n",
    "    "
   ]
  },
  {
   "cell_type": "code",
   "execution_count": 11,
   "metadata": {},
   "outputs": [
    {
     "data": {
      "text/plain": [
       "{9876543210: {'4123567812346789': {'John': [514]}}}"
      ]
     },
     "execution_count": 11,
     "metadata": {},
     "output_type": "execute_result"
    }
   ],
   "source": [
    "#Creditcardsystem\n",
    "\n",
    "d1={name_of_the_user[0]:cvv}\n",
    "d2={creditcard_num:d1}\n",
    "d3={cellnumber:d2}\n",
    "d3"
   ]
  },
  {
   "cell_type": "code",
   "execution_count": 13,
   "metadata": {},
   "outputs": [
    {
     "data": {
      "text/plain": [
       "{'4123567812346789': {'John': [514]}}"
      ]
     },
     "execution_count": 13,
     "metadata": {},
     "output_type": "execute_result"
    }
   ],
   "source": [
    "d3[9876543210][]"
   ]
  },
  {
   "cell_type": "code",
   "execution_count": 1,
   "metadata": {},
   "outputs": [
    {
     "name": "stdin",
     "output_type": "stream",
     "text": [
      "Enter the 16 digit credit card number 9899139045123456\n"
     ]
    },
    {
     "name": "stdout",
     "output_type": "stream",
     "text": [
      "Number entered successfully.The credit card number is : 9899139045123456\n"
     ]
    },
    {
     "name": "stdin",
     "output_type": "stream",
     "text": [
      "ENter name as FN MN LN honey \n",
      "Please enter the year printed on credit card 1996\n"
     ]
    },
    {
     "name": "stdout",
     "output_type": "stream",
     "text": [
      "The length of the year is correct\n",
      "It is invalid\n"
     ]
    },
    {
     "name": "stdin",
     "output_type": "stream",
     "text": [
      "Enter the month of credit card number 12\n"
     ]
    },
    {
     "name": "stdout",
     "output_type": "stream",
     "text": [
      "Valid month given\n",
      "Please find the required CVV as [480]\n"
     ]
    },
    {
     "name": "stdin",
     "output_type": "stream",
     "text": [
      "Enter cellphone number 9971445814\n"
     ]
    },
    {
     "name": "stdout",
     "output_type": "stream",
     "text": [
      "Valid cellphone number\n"
     ]
    },
    {
     "data": {
      "text/plain": [
       "{9971445814: {'9899139045123456': {'honey': [480]}}}"
      ]
     },
     "execution_count": 1,
     "metadata": {},
     "output_type": "execute_result"
    }
   ],
   "source": [
    "#ENter credit card number and verify\n",
    "\n",
    "creditcard_num=input(\"Enter the 16 digit credit card number\")\n",
    "a=str(creditcard_num)\n",
    "\n",
    "if (len(a)<16 or len(a)>16) or (a.isdigit()==False):\n",
    "    print(\"Invalid number entered.Please try again\")\n",
    "else :\n",
    "    print(\"Number entered successfully.The credit card number is :\",a)\n",
    "#Enter name and split\n",
    "name_of_the_user=input(\"ENter name as FN MN LN\").split()\n",
    "name_of_the_user\n",
    "#Enter year and check\n",
    "yyyy=int(input(\"Please enter the year printed on credit card\"))\n",
    "yy=str(yyyy)\n",
    "if len(yy)!=4:\n",
    "    print(\"The length of year is not correct\")\n",
    "else:\n",
    "    print(\"The length of the year is correct\")\n",
    "if yy=='2020':\n",
    "    print(\"It is valid\")\n",
    "else :\n",
    "    print(\"It is invalid\")\n",
    " #Enter month\n",
    "month=int(input(\"Enter the month of credit card number\"))\n",
    "if month<2 or month>12:\n",
    "    print(\"Invalid month.\")\n",
    "else:\n",
    "    print(\"Valid month given\") \n",
    "#Track otp.Generate otp and storing it\n",
    "\n",
    "import random\n",
    "\n",
    "otp=[]\n",
    "\n",
    "a=random.randint(1000,9999)\n",
    "otp.append(a)\n",
    "# CVV generation\n",
    "\n",
    "cvv=[]\n",
    "b=random.randint(100,999)\n",
    "cvv.append(b)\n",
    "print('Please find the required CVV as',cvv)\n",
    "#Cell number\n",
    "cellnumber=int(input('Enter cellphone number'))\n",
    "cell=str(cellnumber)\n",
    "if len(cell)<10 or len(cell)>10 :\n",
    "    print(\"Invalid number\")\n",
    "else:\n",
    "    print(\"Valid cellphone number\")\n",
    "    \n",
    "#Creditcardsystem\n",
    "\n",
    "d1={name_of_the_user[0]:cvv}\n",
    "d2={creditcard_num:d1}\n",
    "d3={cellnumber:d2}\n",
    "d3\n"
   ]
  },
  {
   "cell_type": "code",
   "execution_count": null,
   "metadata": {},
   "outputs": [],
   "source": [
    "d3(9663745392)()"
   ]
  },
  {
   "cell_type": "code",
   "execution_count": 2,
   "metadata": {},
   "outputs": [
    {
     "data": {
      "text/plain": [
       "dict_values([{'9899139045123456': {'honey': [480]}}])"
      ]
     },
     "execution_count": 2,
     "metadata": {},
     "output_type": "execute_result"
    }
   ],
   "source": [
    "d3.values()"
   ]
  },
  {
   "cell_type": "code",
   "execution_count": null,
   "metadata": {},
   "outputs": [],
   "source": [
    "# "
   ]
  }
 ],
 "metadata": {
  "kernelspec": {
   "display_name": "Python 3",
   "language": "python",
   "name": "python3"
  },
  "language_info": {
   "codemirror_mode": {
    "name": "ipython",
    "version": 3
   },
   "file_extension": ".py",
   "mimetype": "text/x-python",
   "name": "python",
   "nbconvert_exporter": "python",
   "pygments_lexer": "ipython3",
   "version": "3.7.4"
  }
 },
 "nbformat": 4,
 "nbformat_minor": 4
}
