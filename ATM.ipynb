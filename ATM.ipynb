{
 "cells": [
  {
   "cell_type": "code",
   "execution_count": 10,
   "metadata": {},
   "outputs": [],
   "source": [
    "balance=10000"
   ]
  },
  {
   "cell_type": "code",
   "execution_count": null,
   "metadata": {},
   "outputs": [],
   "source": [
    "while True:\n",
    "    print(\"Welcome to the Online ATM System\")\n",
    "    print(\"Choose any of the following:\\n 1)Balance \\n 2)Withdraw \\n 3)Deposit\\n 4)Quit\")\n",
    "    try :\n",
    "        Option=int(input('Enter the Option'))\n",
    "    except Exception as e:\n",
    "        print(\"Error\",e)\n",
    "        print(\"Enter 1,2,3 or 4 only\")\n",
    "        continue\n",
    "    if Option==1:\n",
    "        print(\"Balance $\",balance)\n",
    "    elif Option==2:\n",
    "        withdraw=float(input('Enter the amount to be withdrawn in $'))\n",
    "        if withdraw<balance:\n",
    "            balance=balance-withdraw\n",
    "            print('Balance after withdrawal =',balance,\"$\")\n",
    "        elif withdraw>balance:\n",
    "            print('Insufficient funds')\n",
    "        else :\n",
    "            print('No withdrawal made')\n",
    "    elif Option==3:\n",
    "        Deposit=float(input('Enter the amount to be deposited in $'))\n",
    "        if Deposit>0:\n",
    "            balance=Deposit+balance\n",
    "            print(\"Updated balance after Deposit=\",balance)\n",
    "        else:\n",
    "            print('No Deposit made')\n",
    "    elif Option==4:\n",
    "        exit()\n",
    "        \n",
    "    else :\n",
    "        print('Wrong input made')\n",
    "    "
   ]
  },
  {
   "cell_type": "code",
   "execution_count": null,
   "metadata": {},
   "outputs": [],
   "source": []
  }
 ],
 "metadata": {
  "kernelspec": {
   "display_name": "Python 3",
   "language": "python",
   "name": "python3"
  },
  "language_info": {
   "codemirror_mode": {
    "name": "ipython",
    "version": 3
   },
   "file_extension": ".py",
   "mimetype": "text/x-python",
   "name": "python",
   "nbconvert_exporter": "python",
   "pygments_lexer": "ipython3",
   "version": "3.7.4"
  }
 },
 "nbformat": 4,
 "nbformat_minor": 2
}
