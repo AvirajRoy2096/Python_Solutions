{
 "cells": [
  {
   "cell_type": "markdown",
   "metadata": {},
   "source": [
    "## Caesar Cipher-Perform Encryption and decryption of alphabets"
   ]
  },
  {
   "cell_type": "code",
   "execution_count": null,
   "metadata": {},
   "outputs": [],
   "source": [
    "# str1=input(\"Enter the string on which you want to perform Caesar cipher\")\n",
    "l=list(str1)\n",
    "l1=[]\n",
    "l2=[]\n",
    "key=int(input(\"Enter the key\"))\n",
    "choice=int(input(\"Enter the choice :1)Encrypt 2)Decrypt\"))\n",
    "if choice==1:\n",
    "    n=key\n",
    "elif choice==2:\n",
    "    n=-(key)\n",
    "else:\n",
    "    print(\"Wrong choice entered.\")\n",
    "alphabet='abcdefghijklmnopqrstuvwxyzABCDEFGHIJKLMNOPQRSTUVWXYZ'\n",
    "if choice==1 or choice==2:\n",
    "    for i in l:\n",
    "        if i in alphabet:\n",
    "            j=ord(i)+n\n",
    "            l1.append(j)\n",
    "        else:\n",
    "            j=ord(i)\n",
    "            l1.append(j)\n",
    "    for i in l1:\n",
    "        k=chr(i)\n",
    "        l2.append(k)\n",
    "    s2=str(l2)\n",
    "    s3=' '.join(l2)\n",
    "    print(s3)\n",
    "else:\n",
    "    print(\" \")"
   ]
  },
  {
   "cell_type": "code",
   "execution_count": null,
   "metadata": {},
   "outputs": [],
   "source": []
  }
 ],
 "metadata": {
  "kernelspec": {
   "display_name": "Python 3",
   "language": "python",
   "name": "python3"
  },
  "language_info": {
   "codemirror_mode": {
    "name": "ipython",
    "version": 3
   },
   "file_extension": ".py",
   "mimetype": "text/x-python",
   "name": "python",
   "nbconvert_exporter": "python",
   "pygments_lexer": "ipython3",
   "version": "3.7.4"
  }
 },
 "nbformat": 4,
 "nbformat_minor": 4
}
