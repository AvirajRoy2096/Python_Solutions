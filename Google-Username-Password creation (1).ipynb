{
 "cells": [
  {
   "cell_type": "code",
   "execution_count": 2,
   "metadata": {},
   "outputs": [
    {
     "name": "stdin",
     "output_type": "stream",
     "text": [
      "Enter the new username Aviraj\n"
     ]
    },
    {
     "name": "stdout",
     "output_type": "stream",
     "text": [
      "New username made successfully\n"
     ]
    },
    {
     "name": "stdin",
     "output_type": "stream",
     "text": [
      "Enter the password of your choice.(Password length should be more than 4 characters and less than 20 characters.Morevover please provide Minimum 1 digit & Minimum 1 special character in your password.) jsdjsjdh\n"
     ]
    },
    {
     "name": "stdout",
     "output_type": "stream",
     "text": [
      "python unable to recognise the input\n"
     ]
    }
   ],
   "source": [
    "#Username & Password creation(Condition is the Username can be anything.But the password has to be more than 4 characters and less than 20 characters.Moreover there should be a minimum of 1 digit and 1 special character in the password)\n",
    "import re\n",
    "c=0\n",
    "username=['messi7','ronaldo10','neymar567','lebron87','ramos999']\n",
    "\n",
    "new_user=input('Enter the new username')\n",
    "for user in username:\n",
    "    if user==new_user:\n",
    "        print(\"username already exist\")\n",
    "        break\n",
    "    else :\n",
    "        print(\"New username made successfully\")\n",
    "        c=c+1\n",
    "        if c==1 :\n",
    "            pwd=input(\"Enter the password of your choice.(Password length should be more than 4 characters and less than 20 characters.Morevover please provide Minimum 1 digit & Minimum 1 special character in your password.)\")\n",
    "        \n",
    "            if len(pwd)<4 or len(pwd)>20 :\n",
    "                print(\"Invalid password\")\n",
    "                break\n",
    "            elif pwd.isalnum()==False: \n",
    "                regex = re.compile('[@_!#$%^&*()<>?/\\|}{~:]') \n",
    "                if  regex.search(pwd):\n",
    "                    print(\"Username is \",new_user)\n",
    "                    print(\"Password is \",pwd)\n",
    "                   # break\n",
    "                else :\n",
    "                    print('Invalid password as no Special characters')\n",
    "                    break\n",
    "            else :\n",
    "                print(\"python unable to recognise the input\")\n",
    "                break\n",
    "        else :\n",
    "            print(\"Wrong input\")"
   ]
  },
  {
   "cell_type": "code",
   "execution_count": 3,
   "metadata": {},
   "outputs": [],
   "source": [
    "#in case of on invalid password entered by user, ask user to renter the password "
   ]
  },
  {
   "cell_type": "code",
   "execution_count": null,
   "metadata": {},
   "outputs": [],
   "source": [
    "#Username & Password creation(Condition is the Username can be anything.But the password has to be more than 4 characters and less than 20 characters.Moreover there should be a minimum of 1 digit and 1 special character in the password)\n",
    "import re\n",
    "c=0\n",
    "username=['messi7','ronaldo10','neymar567','lebron87','ramos999']\n",
    "\n",
    "new_user=input('Enter the new username')\n",
    "for user in username:\n",
    "    if user==new_user:\n",
    "        print(\"username already exist\")\n",
    "        break\n",
    "    else :\n",
    "        print(\"New username made successfully\")\n",
    "        c=c+1\n",
    "        if c==1 :\n",
    "            pwd=input(\"Enter the password of your choice.(Password length should be more than 4 characters and less than 20 characters.Morevover please provide Minimum 1 digit & Minimum 1 special character in your password.)\")\n",
    "        \n",
    "            if len(pwd)<4 or len(pwd)>20 :\n",
    "                print(\"Invalid password\")\n",
    "                break\n",
    "            elif pwd.isalnum()==False: \n",
    "                regex = re.compile('[@_!#$%^&*()<>?/\\|}{~:]') \n",
    "                if  regex.search(pwd):\n",
    "                    print(\"Username is \",new_user)\n",
    "                    print(\"Password is \",pwd)\n",
    "                    break\n",
    "                else :\n",
    "                    print('Invalid password as no Special characters')\n",
    "                    break\n",
    "            else :\n",
    "                print(\"python unable to recognise the input\")\n",
    "                break\n",
    "        else :\n",
    "            print(\"Wrong input\")"
   ]
  },
  {
   "cell_type": "code",
   "execution_count": null,
   "metadata": {},
   "outputs": [],
   "source": []
  }
 ],
 "metadata": {
  "kernelspec": {
   "display_name": "Python 3",
   "language": "python",
   "name": "python3"
  },
  "language_info": {
   "codemirror_mode": {
    "name": "ipython",
    "version": 3
   },
   "file_extension": ".py",
   "mimetype": "text/x-python",
   "name": "python",
   "nbconvert_exporter": "python",
   "pygments_lexer": "ipython3",
   "version": "3.7.4"
  }
 },
 "nbformat": 4,
 "nbformat_minor": 4
}
